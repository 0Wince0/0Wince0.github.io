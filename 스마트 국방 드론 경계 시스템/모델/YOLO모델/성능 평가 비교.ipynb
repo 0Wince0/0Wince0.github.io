{
 "cells": [
  {
   "cell_type": "code",
   "execution_count": 11,
   "id": "35f29113-2a84-4da4-9b4b-52220a903bb1",
   "metadata": {},
   "outputs": [],
   "source": [
    "from ultralytics import YOLO\n",
    "\n",
    "model1 = YOLO('yolo11m.pt')\n",
    "model2 = YOLO(\"yolov8m_one_best.pt\")\n",
    "model3 = YOLO(\"yolov11m_myeong_best.pt\")\n",
    "model4 = YOLO(\"yolov11m_myeong_best_airsim100_simpletrain.pt\")\n",
    "model5 = YOLO(\"yolov11m_myeong_best_airsim100.pt\")\n",
    "model6 = YOLO(\"yolov11m_myeong_best_airsim200_simpletrain_freeze.pt\")"
   ]
  },
  {
   "cell_type": "code",
   "execution_count": 5,
   "id": "cae0f12f-12ca-4bf7-9366-c24712d80d13",
   "metadata": {},
   "outputs": [
    {
     "name": "stdout",
     "output_type": "stream",
     "text": [
      "Ultralytics 8.3.68  Python-3.8.20 torch-2.4.1+cu118 CUDA:0 (NVIDIA GeForce RTX 4070 Ti SUPER, 16376MiB)\n"
     ]
    },
    {
     "name": "stderr",
     "output_type": "stream",
     "text": [
      "\u001b[34m\u001b[1mval: \u001b[0mScanning C:\\Users\\USER\\OneDrive\\문서\\MyPythonStudy\\패스트캠퍼스\\파이토치_컴퓨터비전\\acorn_project\\yolo_model\\yolo_\u001b[0m\n"
     ]
    },
    {
     "name": "stdout",
     "output_type": "stream",
     "text": [
      "\u001b[34m\u001b[1mval: \u001b[0mNew cache created: C:\\Users\\USER\\OneDrive\\\\MyPythonStudy\\\\_\\acorn_project\\yolo_model\\yolo_dataset_16000()\\eval\\labels\\val.cache\n"
     ]
    },
    {
     "name": "stderr",
     "output_type": "stream",
     "text": [
      "                 Class     Images  Instances      Box(P          R      mAP50  mAP50-95): 100%|██████████| 831/831 [00:\n"
     ]
    },
    {
     "name": "stdout",
     "output_type": "stream",
     "text": [
      "                   all       3324       5392      0.774      0.677      0.726       0.46\n",
      "                person       3324       5392      0.774      0.677      0.726       0.46\n",
      "Speed: 0.1ms preprocess, 4.8ms inference, 0.0ms loss, 1.1ms postprocess per image\n",
      "Results saved to \u001b[1mruns\\detect\\val2\u001b[0m\n"
     ]
    }
   ],
   "source": [
    "results1 = model1.val(\n",
    "    data=\"model1_eval.yaml\",   # 평가에 사용할 데이터셋 정의 (test 또는 val 경로 포함)\n",
    "    imgsz=640,    # 학습과 동일한 해상도\n",
    "    batch=4,              # 평가 배치 크기\n",
    "    device='cuda',        # GPU 사용\n",
    "    conf=0.001,           # 낮게 설정 (모든 객체 탐지 평가 위해)\n",
    "    iou=0.65              # NMS IoU 임계값\n",
    ")"
   ]
  },
  {
   "cell_type": "code",
   "execution_count": 7,
   "id": "fdd9cf56-8007-49fa-9a5f-e0f4508dea4c",
   "metadata": {},
   "outputs": [
    {
     "name": "stdout",
     "output_type": "stream",
     "text": [
      "Ultralytics 8.3.68  Python-3.8.20 torch-2.4.1+cu118 CUDA:0 (NVIDIA GeForce RTX 4070 Ti SUPER, 16376MiB)\n",
      "YOLO11m summary (fused): 303 layers, 20,094,796 parameters, 0 gradients, 68.0 GFLOPs\n"
     ]
    },
    {
     "name": "stderr",
     "output_type": "stream",
     "text": [
      "\u001b[34m\u001b[1mval: \u001b[0mScanning C:\\Users\\USER\\OneDrive\\문서\\MyPythonStudy\\패스트캠퍼스\\파이토치_컴퓨터비전\\acorn_project\\yolo_model\\yolo_\u001b[0m\n",
      "                 Class     Images  Instances      Box(P          R      mAP50  mAP50-95): 100%|██████████| 831/831 [00:\n"
     ]
    },
    {
     "name": "stdout",
     "output_type": "stream",
     "text": [
      "                   all       3324       5392       0.93      0.901      0.945       0.65\n",
      "                person       3324       5392       0.93      0.901      0.945       0.65\n",
      "Speed: 0.1ms preprocess, 4.9ms inference, 0.0ms loss, 1.1ms postprocess per image\n",
      "Results saved to \u001b[1mruns\\detect\\val3\u001b[0m\n"
     ]
    }
   ],
   "source": [
    "results3 = model3.val(\n",
    "    data=\"model3_eval.yaml\",   # 평가에 사용할 데이터셋 정의 (test 또는 val 경로 포함)\n",
    "    imgsz=640,    # 학습과 동일한 해상도\n",
    "    batch=4,              # 평가 배치 크기\n",
    "    device='cuda',        # GPU 사용\n",
    "    conf=0.001,           # 낮게 설정 (모든 객체 탐지 평가 위해)\n",
    "    iou=0.65              # NMS IoU 임계값\n",
    ")"
   ]
  },
  {
   "cell_type": "code",
   "execution_count": 8,
   "id": "1d4cfb1c-5c67-49ce-9afb-7116de7931f3",
   "metadata": {},
   "outputs": [
    {
     "name": "stdout",
     "output_type": "stream",
     "text": [
      "Ultralytics 8.3.68  Python-3.8.20 torch-2.4.1+cu118 CUDA:0 (NVIDIA GeForce RTX 4070 Ti SUPER, 16376MiB)\n",
      "Model summary (fused): 218 layers, 25,843,234 parameters, 0 gradients, 78.7 GFLOPs\n"
     ]
    },
    {
     "name": "stderr",
     "output_type": "stream",
     "text": [
      "\u001b[34m\u001b[1mval: \u001b[0mScanning C:\\Users\\USER\\OneDrive\\문서\\MyPythonStudy\\패스트캠퍼스\\파이토치_컴퓨터비전\\acorn_project\\yolo_model\\yolo_\u001b[0m\n"
     ]
    },
    {
     "name": "stdout",
     "output_type": "stream",
     "text": [
      "\u001b[34m\u001b[1mval: \u001b[0mNew cache created: C:\\Users\\USER\\OneDrive\\\\MyPythonStudy\\\\_\\acorn_project\\yolo_model\\yolo_dataset_16000()\\eval\\labels\\val.cache\n"
     ]
    },
    {
     "name": "stderr",
     "output_type": "stream",
     "text": [
      "                 Class     Images  Instances      Box(P          R      mAP50  mAP50-95): 100%|██████████| 831/831 [00:\n"
     ]
    },
    {
     "name": "stdout",
     "output_type": "stream",
     "text": [
      "                   all       3324       5392      0.932      0.911      0.949       0.68\n",
      "                person       3324       5392      0.932      0.911      0.949       0.68\n",
      "Speed: 0.1ms preprocess, 3.7ms inference, 0.0ms loss, 1.1ms postprocess per image\n",
      "Results saved to \u001b[1mruns\\detect\\val\u001b[0m\n"
     ]
    }
   ],
   "source": [
    "results2 = model2.val(\n",
    "    data=\"model2_eval.yaml\",   # 평가에 사용할 데이터셋 정의 (test 또는 val 경로 포함)\n",
    "    imgsz=640,    # 학습과 동일한 해상도\n",
    "    batch=4,              # 평가 배치 크기\n",
    "    device='cuda',        # GPU 사용\n",
    "    conf=0.001,           # 낮게 설정 (모든 객체 탐지 평가 위해)\n",
    "    iou=0.65              # NMS IoU 임계값\n",
    ")"
   ]
  },
  {
   "cell_type": "code",
   "execution_count": 3,
   "id": "45b4ce00-9d0d-4cf3-bd2e-5e04eee4375d",
   "metadata": {},
   "outputs": [
    {
     "name": "stdout",
     "output_type": "stream",
     "text": [
      "Ultralytics 8.3.68  Python-3.8.20 torch-2.4.1+cu118 CUDA:0 (NVIDIA GeForce RTX 4070 Ti SUPER, 16376MiB)\n",
      "YOLO11m summary (fused): 303 layers, 20,094,796 parameters, 0 gradients, 68.0 GFLOPs\n"
     ]
    },
    {
     "name": "stderr",
     "output_type": "stream",
     "text": [
      "\u001b[34m\u001b[1mval: \u001b[0mScanning C:\\Users\\USER\\OneDrive\\문서\\MyPythonStudy\\패스트캠퍼스\\파이토치_컴퓨터비전\\acorn_project\\yolo_model\\yolo_\u001b[0m\n",
      "                 Class     Images  Instances      Box(P          R      mAP50  mAP50-95): 100%|██████████| 831/831 [00:\n"
     ]
    },
    {
     "name": "stdout",
     "output_type": "stream",
     "text": [
      "                   all       3324       5392      0.817       0.66      0.748      0.432\n",
      "                person       3324       5392      0.817       0.66      0.748      0.432\n",
      "Speed: 0.1ms preprocess, 4.7ms inference, 0.0ms loss, 1.1ms postprocess per image\n",
      "Results saved to \u001b[1mruns\\detect\\val\u001b[0m\n"
     ]
    }
   ],
   "source": [
    "results4 = model4.val(\n",
    "    data=\"model3_eval.yaml\",   # 평가에 사용할 데이터셋 정의 (test 또는 val 경로 포함)\n",
    "    imgsz=640,    # 학습과 동일한 해상도\n",
    "    batch=4,              # 평가 배치 크기\n",
    "    device='cuda',        # GPU 사용\n",
    "    conf=0.001,           # 낮게 설정 (모든 객체 탐지 평가 위해)\n",
    "    iou=0.65              # NMS IoU 임계값\n",
    ")"
   ]
  },
  {
   "cell_type": "code",
   "execution_count": 9,
   "id": "6eab750b-d447-465e-9593-994fb03056c1",
   "metadata": {},
   "outputs": [
    {
     "name": "stdout",
     "output_type": "stream",
     "text": [
      "Ultralytics 8.3.68  Python-3.8.20 torch-2.4.1+cu118 CUDA:0 (NVIDIA GeForce RTX 4070 Ti SUPER, 16376MiB)\n"
     ]
    },
    {
     "name": "stderr",
     "output_type": "stream",
     "text": [
      "\u001b[34m\u001b[1mval: \u001b[0mScanning C:\\Users\\USER\\OneDrive\\문서\\MyPythonStudy\\패스트캠퍼스\\파이토치_컴퓨터비전\\acorn_project\\yolo_model\\yolo_\u001b[0m\n"
     ]
    },
    {
     "name": "stdout",
     "output_type": "stream",
     "text": [
      "\u001b[34m\u001b[1mval: \u001b[0mNew cache created: C:\\Users\\USER\\OneDrive\\\\MyPythonStudy\\\\_\\acorn_project\\yolo_model\\yolo_dataset_16000()\\eval\\labels\\val.cache\n"
     ]
    },
    {
     "name": "stderr",
     "output_type": "stream",
     "text": [
      "                 Class     Images  Instances      Box(P          R      mAP50  mAP50-95): 100%|██████████| 831/831 [00:\n"
     ]
    },
    {
     "name": "stdout",
     "output_type": "stream",
     "text": [
      "                   all       3324       5392      0.922      0.867      0.929      0.631\n",
      "                person       3324       5392      0.922      0.867      0.929      0.631\n",
      "Speed: 0.1ms preprocess, 4.7ms inference, 0.0ms loss, 1.1ms postprocess per image\n",
      "Results saved to \u001b[1mruns\\detect\\val3\u001b[0m\n"
     ]
    }
   ],
   "source": [
    "results5 = model5.val(\n",
    "    data=\"model3_eval.yaml\",   # 평가에 사용할 데이터셋 정의 (test 또는 val 경로 포함)\n",
    "    imgsz=640,    # 학습과 동일한 해상도\n",
    "    batch=4,              # 평가 배치 크기\n",
    "    device='cuda',        # GPU 사용\n",
    "    conf=0.001,           # 낮게 설정 (모든 객체 탐지 평가 위해)\n",
    "    iou=0.65              # NMS IoU 임계값\n",
    ")"
   ]
  },
  {
   "cell_type": "code",
   "execution_count": 13,
   "id": "9443cfb4-d4e8-4798-b616-638bac1abfee",
   "metadata": {},
   "outputs": [
    {
     "name": "stdout",
     "output_type": "stream",
     "text": [
      "Ultralytics 8.3.68  Python-3.8.20 torch-2.4.1+cu118 CUDA:0 (NVIDIA GeForce RTX 4070 Ti SUPER, 16376MiB)\n",
      "YOLO11m summary (fused): 303 layers, 20,094,796 parameters, 0 gradients, 68.0 GFLOPs\n"
     ]
    },
    {
     "name": "stderr",
     "output_type": "stream",
     "text": [
      "\u001b[34m\u001b[1mval: \u001b[0mScanning C:\\Users\\USER\\OneDrive\\문서\\MyPythonStudy\\패스트캠퍼스\\파이토치_컴퓨터비전\\acorn_project\\yolo_model\\yolo_\u001b[0m\n"
     ]
    },
    {
     "name": "stdout",
     "output_type": "stream",
     "text": [
      "\u001b[34m\u001b[1mval: \u001b[0mNew cache created: C:\\Users\\USER\\OneDrive\\\\MyPythonStudy\\\\_\\acorn_project\\yolo_model\\yolo_dataset_16000()\\eval\\labels\\val.cache\n"
     ]
    },
    {
     "name": "stderr",
     "output_type": "stream",
     "text": [
      "                 Class     Images  Instances      Box(P          R      mAP50  mAP50-95): 100%|██████████| 831/831 [00:\n"
     ]
    },
    {
     "name": "stdout",
     "output_type": "stream",
     "text": [
      "                   all       3324       5392      0.769      0.601       0.68      0.374\n",
      "                person       3324       5392      0.769      0.601       0.68      0.374\n",
      "Speed: 0.1ms preprocess, 4.7ms inference, 0.0ms loss, 1.1ms postprocess per image\n",
      "Results saved to \u001b[1mruns\\detect\\val\u001b[0m\n"
     ]
    }
   ],
   "source": [
    "results6 = model6.val(\n",
    "    data=\"model3_eval.yaml\",   # 평가에 사용할 데이터셋 정의 (test 또는 val 경로 포함)\n",
    "    imgsz=640,    # 학습과 동일한 해상도\n",
    "    batch=4,              # 평가 배치 크기\n",
    "    device='cuda',        # GPU 사용\n",
    "    conf=0.001,           # 낮게 설정 (모든 객체 탐지 평가 위해)\n",
    "    iou=0.65              # NMS IoU 임계값\n",
    ")"
   ]
  },
  {
   "cell_type": "code",
   "execution_count": 9,
   "id": "728b2a1d-af57-4d67-99aa-674884c6768b",
   "metadata": {},
   "outputs": [
    {
     "name": "stdout",
     "output_type": "stream",
     "text": [
      "📄 모델1 결과 요약\n",
      "  mAP@0.5: 0.7263779043226277\n",
      "  mAP@0.5:0.95: 0.46027019251089263\n",
      "  Precision: 0.773632040690551\n",
      "  Recall: 0.6769287833827893\n",
      "📄 모델2 결과 요약\n",
      "  mAP@0.5: 0.944629446710147\n",
      "  mAP@0.5:0.95: 0.6503479091576648\n",
      "  Precision: 0.9304592586265327\n",
      "  Recall: 0.9007789317507419\n"
     ]
    }
   ],
   "source": [
    "for i, results in enumerate([results1, results3], 1):\n",
    "    print(f\"📄 모델{i} 결과 요약\")\n",
    "    print(\"  mAP@0.5:\", results.box.map50)       # ✅ 괄호 X\n",
    "    print(\"  mAP@0.5:0.95:\", results.box.map)    # mAP@[.5:.95]\n",
    "    print(\"  Precision:\", results.box.mp)      # mean precision\n",
    "    print(\"  Recall:\", results.box.mr)         # mean recall"
   ]
  },
  {
   "cell_type": "code",
   "execution_count": null,
   "id": "a598702e-5fbe-46d7-9ce0-6408949d99da",
   "metadata": {},
   "outputs": [],
   "source": []
  }
 ],
 "metadata": {
  "kernelspec": {
   "display_name": "Python [conda env:roboflow_env]",
   "language": "python",
   "name": "conda-env-roboflow_env-py"
  },
  "language_info": {
   "codemirror_mode": {
    "name": "ipython",
    "version": 3
   },
   "file_extension": ".py",
   "mimetype": "text/x-python",
   "name": "python",
   "nbconvert_exporter": "python",
   "pygments_lexer": "ipython3",
   "version": "3.8.20"
  }
 },
 "nbformat": 4,
 "nbformat_minor": 5
}
