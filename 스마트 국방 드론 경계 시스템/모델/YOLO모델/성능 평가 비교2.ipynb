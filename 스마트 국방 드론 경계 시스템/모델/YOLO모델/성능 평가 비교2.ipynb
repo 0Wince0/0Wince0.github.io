{
 "cells": [
  {
   "cell_type": "code",
   "execution_count": 1,
   "id": "35f29113-2a84-4da4-9b4b-52220a903bb1",
   "metadata": {},
   "outputs": [],
   "source": [
    "from ultralytics import YOLO\n",
    "\n",
    "model1 = YOLO('yolo11m.pt')\n",
    "# model2 = YOLO(\"yolov8m_one_best.pt\")\n",
    "model3 = YOLO(\"yolov11m_myeong_best.pt\")\n",
    "model5 = YOLO(\"yolov11m_myeong_best_airsim100.pt\")"
   ]
  },
  {
   "cell_type": "code",
   "execution_count": 7,
   "id": "cae0f12f-12ca-4bf7-9366-c24712d80d13",
   "metadata": {},
   "outputs": [
    {
     "name": "stdout",
     "output_type": "stream",
     "text": [
      "\n",
      "0: 384x640 1 building, 1 structure, 1 tree, 76.9ms\n",
      "Speed: 3.5ms preprocess, 76.9ms inference, 1.5ms postprocess per image at shape (1, 3, 384, 640)\n"
     ]
    }
   ],
   "source": [
    "import cv2\n",
    "import numpy as np\n",
    "\n",
    "# 이미지 경로\n",
    "image_names = [\n",
    "    \"4-LAND-AI02-SUN-10M-15-CITY-Cheongna-0106-16-29-06-L-Y-S15_0000647\",\n",
    "    \"4-LAND-AI02-SUN-10M-15-CITY-Cheongna-0106-16-33-41-L-Y_0001867\",\n",
    "    \"6-FLY-AI05-SUN-5M-15-LAND-Pyeongtaek-0220-15-11-40-L-Y_0000059\"\n",
    "]\n",
    "image_path = f'yolo_dataset_16000(적외선이미지포함)/eval/images/test/{image_names[2]}.jpg'\n",
    "\n",
    "# 이미지 불러오기\n",
    "image = cv2.imread(image_path)\n",
    "\n",
    "# 예측 수행\n",
    "results = model5.predict(source=image, conf=0.3)\n",
    "\n",
    "# 결과에서 바운딩 박스, 클래스 정보 가져오기\n",
    "for result in results:\n",
    "    boxes = result.boxes  # Boxes object\n",
    "    for box in boxes:\n",
    "        # 바운딩 박스 좌표\n",
    "        x1, y1, x2, y2 = map(int, box.xyxy[0])  # [x1, y1, x2, y2]\n",
    "\n",
    "        # 클래스 ID와 점수\n",
    "        cls_id = int(box.cls[0])\n",
    "        conf = float(box.conf[0])\n",
    "\n",
    "        # 클래스 이름\n",
    "        class_name = model5.names[cls_id]\n",
    "\n",
    "        # 바운딩 박스 그리기\n",
    "        cv2.rectangle(image, (x1, y1), (x2, y2), (0, 255, 0), 2)\n",
    "        label = f'{class_name} {conf:.2f}'\n",
    "        cv2.putText(image, label, (x1, y1 - 10),\n",
    "                    cv2.FONT_HERSHEY_SIMPLEX, 0.6, (0, 255, 0), 2)\n",
    "\n",
    "# 결과 저장\n",
    "output_path = f'Compare/model5_{image_names[2]}.jpg'\n",
    "cv2.imwrite(output_path, image)\n",
    "\n",
    "# 결과 보기\n",
    "cv2.imshow('YOLO Detection Compare', image)\n",
    "cv2.waitKey(0)\n",
    "cv2.destroyAllWindows()\n",
    "\n"
   ]
  },
  {
   "cell_type": "code",
   "execution_count": null,
   "id": "a598702e-5fbe-46d7-9ce0-6408949d99da",
   "metadata": {},
   "outputs": [],
   "source": []
  }
 ],
 "metadata": {
  "kernelspec": {
   "display_name": "Python [conda env:roboflow_env]",
   "language": "python",
   "name": "conda-env-roboflow_env-py"
  },
  "language_info": {
   "codemirror_mode": {
    "name": "ipython",
    "version": 3
   },
   "file_extension": ".py",
   "mimetype": "text/x-python",
   "name": "python",
   "nbconvert_exporter": "python",
   "pygments_lexer": "ipython3",
   "version": "3.8.20"
  }
 },
 "nbformat": 4,
 "nbformat_minor": 5
}
